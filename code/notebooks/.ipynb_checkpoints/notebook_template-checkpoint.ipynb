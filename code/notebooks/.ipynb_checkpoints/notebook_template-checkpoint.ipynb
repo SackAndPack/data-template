{
 "cells": [
  {
   "cell_type": "code",
   "execution_count": 1,
   "id": "29e88d1c-787a-4fd4-b6d9-b25fa79f6406",
   "metadata": {},
   "outputs": [],
   "source": [
    "# project name"
   ]
  },
  {
   "cell_type": "code",
   "execution_count": 3,
   "id": "29bb19b4-9289-412c-ab0a-07dacdd14691",
   "metadata": {},
   "outputs": [],
   "source": [
    "# Author: Samuel Acker\n",
    "# last modified 11-13-2024\n",
    "# Description: Short paragraph explainung this project"
   ]
  },
  {
   "cell_type": "code",
   "execution_count": 4,
   "id": "d43b7917-f6c3-4a49-98a1-467e728f7aa0",
   "metadata": {},
   "outputs": [],
   "source": [
    "#Import libraries:"
   ]
  },
  {
   "cell_type": "code",
   "execution_count": 5,
   "id": "d8a6b4b4-5011-49c2-ab68-976151c68892",
   "metadata": {},
   "outputs": [],
   "source": [
    "import pandas as pd"
   ]
  },
  {
   "cell_type": "code",
   "execution_count": 6,
   "id": "f2c103dd-703d-4d40-b8f5-b9602e9011de",
   "metadata": {},
   "outputs": [],
   "source": [
    "#Load data:"
   ]
  },
  {
   "cell_type": "code",
   "execution_count": 11,
   "id": "819296dc-e4c3-4dea-b2b3-1ef51504ed5c",
   "metadata": {},
   "outputs": [],
   "source": [
    "# code to read csv file"
   ]
  },
  {
   "cell_type": "code",
   "execution_count": null,
   "id": "6a37b37d-9a35-4f5c-b8f9-69187a761299",
   "metadata": {},
   "outputs": [],
   "source": []
  }
 ],
 "metadata": {
  "kernelspec": {
   "display_name": "Python 3 (ipykernel)",
   "language": "python",
   "name": "python3"
  },
  "language_info": {
   "codemirror_mode": {
    "name": "ipython",
    "version": 3
   },
   "file_extension": ".py",
   "mimetype": "text/x-python",
   "name": "python",
   "nbconvert_exporter": "python",
   "pygments_lexer": "ipython3",
   "version": "3.12.4"
  }
 },
 "nbformat": 4,
 "nbformat_minor": 5
}
